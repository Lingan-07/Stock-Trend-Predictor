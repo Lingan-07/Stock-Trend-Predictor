{
 "cells": [
  {
   "cell_type": "code",
   "execution_count": 1,
   "id": "f4fc7ca1-9f3c-4f88-9dca-157d75d1c061",
   "metadata": {},
   "outputs": [],
   "source": [
    "import pandas as pd\n",
    "import numpy as np\n",
    "import math\n",
    "import sklearn\n",
    "from sklearn import preprocessing\n",
    "from sklearn.model_selection import cross_validate\n",
    "from sklearn.model_selection import train_test_split\n",
    "from sklearn.linear_model import LogisticRegression"
   ]
  },
  {
   "cell_type": "code",
   "execution_count": 9,
   "id": "9f35abab-c825-4c55-a06e-be28a3696bcc",
   "metadata": {},
   "outputs": [],
   "source": [
    "filepath = r\"D:\\Documents\\Semester 5\\ML LAB\\ISCTR.IS.csv\"\n",
    "data = pd.read_csv(filepath)\n",
    "\n",
    "data = data.dropna()\n",
    "\n",
    "data['High_Low_per'] = (data['High'] - data['Close']) / data['Close']*100\n",
    "data['Per_change'] = (data['Open'] - data['Open']) / data['Close']*100\n",
    "data = data[['Adj Close','High_Low_per','Per_change','Volume']]\n",
    "label_col = 'Adj Close'\n",
    "\n",
    "ceil_data = int(math.ceil(0.002*len(data)))\n",
    "data['label'] = data[label_col].shift(-ceil_data)\n",
    "\n",
    "data['direction'] = np.where(data['Adj Close'].shift(-1) > data['Adj Close'], 1, 0)\n",
    "\n",
    "data.dropna(inplace=True)\n",
    "\n",
    "X = data[['High_Low_per', 'Per_change', 'Volume']].values\n",
    "X = preprocessing.scale(X)\n",
    "forecast = X[-ceil_data-7:-ceil_data]\n",
    "y = data['direction'].values\n",
    "\n",
    "X_train, X_test, y_train, y_test = train_test_split(X, y, test_size=0.2)"
   ]
  },
  {
   "cell_type": "code",
   "execution_count": 11,
   "id": "fdfe3de8-00a2-41a0-9fff-67992a8bb1b2",
   "metadata": {},
   "outputs": [
    {
     "name": "stdout",
     "output_type": "stream",
     "text": [
      "Predictions on Test Data: [0 0 0 0 0 0 0 1 0 0 0 0 0 0 0 0 0 0 0 0 0 0 0 0 0 0 0 0 0 0 0 0 0 0 0 0 0\n",
      " 0 0 0 0 0 0 0 0 0 0 0 0 0 0 0 0 0 0 0 0 0 1 0 0 0 0 0 0 0 1 0 1 0 1 0 0 1\n",
      " 0 0 0 0 0 0 0 0 0 0 0 0 0 0 0 0 0 0 0 0 0 0 0 0 0 0 0 0 0 0 0 0 0 0 0 0 0\n",
      " 0 0 1 0 0 0 0 0 0 1 0 0 0 0 0 0 0 0 0 0 0 0 0 0 0 0 0 0 0 0 0 0 0 1 0 0 0\n",
      " 0 0 0 0 0 1 0 0 0 0 0 0 1 0 0 0 0 1 0 0 0 0 0 0 1 0 0 0 0 0 0 0 0 0 0 0 1\n",
      " 0 0 0 0 0 0 0 0 0 0 0 0 1 0 0 0 1 1 0 1 0 0 1 0 0 0 0 0 0 0 0 0 0 0 0 1 0\n",
      " 0 0 0 0 0 0 0 0 0 0 0 0 0 0 0 1 0 0 1 0 0 0 0 0 0 0 1 0 0 0 0 0 1 0 1 0 0\n",
      " 0 0 0 1 0 0 0 0 0 0 0 0 0 0 0 0 0 0 0 0 0 0 0 0 0 0 0 0 0 0 0 0 0 0 0 0 0\n",
      " 0 0 0 0 0 0 0 0 0 0 0 0 0 0 0 0 0 0 0 0 0 0 0 0 0 0 1 0 0 0 0 0 0 1 0 1 0\n",
      " 0 0 1 0 0 0 0 0 0 0 0 0 0 0 0 0 0 0 0 0 0 0 0 0 0 0 0 0 0 0 0 0 0 0 0 0 0\n",
      " 0 0 0 0 0 0 0 0 0 0 0 1 0 1 0 0 0 0 0 0 1 0 0 0 0 0 0 1 0 0 0 0 0 0 0 0 0\n",
      " 0 1 0 0]\n"
     ]
    }
   ],
   "source": [
    "logreg = LogisticRegression()\n",
    "logreg.fit(X_train, y_train)\n",
    "\n",
    "logreg_prediction = logreg.predict(X_test)\n",
    "\n",
    "logreg_next7days = logreg.predict(forecast)\n",
    "\n",
    "print('Predictions on Test Data:', logreg_prediction)"
   ]
  },
  {
   "cell_type": "code",
   "execution_count": 13,
   "id": "57e634d7-48a5-4378-a85a-abff8037466e",
   "metadata": {},
   "outputs": [
    {
     "name": "stdout",
     "output_type": "stream",
     "text": [
      "Predictions for the next 7 days: [1 1 1 1 1 1 1]\n"
     ]
    }
   ],
   "source": [
    "print('Predictions for the next 7 days:', logreg_next7days)"
   ]
  },
  {
   "cell_type": "code",
   "execution_count": null,
   "id": "55cbca2a-ca34-472b-9109-21adf2c4c653",
   "metadata": {},
   "outputs": [],
   "source": []
  }
 ],
 "metadata": {
  "kernelspec": {
   "display_name": "Python 3 (ipykernel)",
   "language": "python",
   "name": "python3"
  },
  "language_info": {
   "codemirror_mode": {
    "name": "ipython",
    "version": 3
   },
   "file_extension": ".py",
   "mimetype": "text/x-python",
   "name": "python",
   "nbconvert_exporter": "python",
   "pygments_lexer": "ipython3",
   "version": "3.12.4"
  }
 },
 "nbformat": 4,
 "nbformat_minor": 5
}
